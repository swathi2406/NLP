{
  "nbformat": 4,
  "nbformat_minor": 0,
  "metadata": {
    "colab": {
      "name": "Assignment_NLP",
      "provenance": [],
      "collapsed_sections": [],
      "include_colab_link": true
    },
    "kernelspec": {
      "name": "python3",
      "display_name": "Python 3"
    }
  },
  "cells": [
    {
      "cell_type": "markdown",
      "metadata": {
        "id": "view-in-github",
        "colab_type": "text"
      },
      "source": [
        "<a href=\"https://colab.research.google.com/github/swathi2406/NLP/blob/master/Assignment_NLP.ipynb\" target=\"_parent\"><img src=\"https://colab.research.google.com/assets/colab-badge.svg\" alt=\"Open In Colab\"/></a>"
      ]
    },
    {
      "cell_type": "markdown",
      "metadata": {
        "id": "kBqhp6sBPtH5"
      },
      "source": [
        "# Web Scraping and Data Cleaning\n",
        "\n",
        "---\n",
        "##All articles follow an url http://www.natgeotraveller.in/<  title  >/\n",
        "## Articles Used:\n",
        "  * http://www.natgeotraveller.in/train-to-nowhere/\n",
        "  * http://www.natgeotraveller.in/getting-saucy-about-food/\n",
        "  * http://www.natgeotraveller.in/what-dreams-may-come/\n",
        "  * http://www.natgeotraveller.in/six-years-and-counting/"
      ]
    },
    {
      "cell_type": "code",
      "metadata": {
        "id": "fhRxwANOOy_u"
      },
      "source": [
        "import bs4 as bs\n",
        "import urllib.request"
      ],
      "execution_count": null,
      "outputs": []
    },
    {
      "cell_type": "code",
      "metadata": {
        "id": "W8SgkTgKYAZQ"
      },
      "source": [
        "url='http://www.natgeotraveller.in/'"
      ],
      "execution_count": null,
      "outputs": []
    },
    {
      "cell_type": "code",
      "metadata": {
        "id": "Q3Oq3jRfYj0x"
      },
      "source": [
        "articles=['train-to-nowhere/','getting-saucy-about-food/','what-dreams-may-come/','six-years-and-counting/']\n",
        "sources=[urllib.request.urlopen(url + i).read() for i in articles]\n",
        "soups=[bs.BeautifulSoup(i,'lxml') for i in sources]"
      ],
      "execution_count": null,
      "outputs": []
    },
    {
      "cell_type": "code",
      "metadata": {
        "id": "p6t-hvaZb7vW",
        "outputId": "583ef499-9119-4701-a1c8-6997432612c4",
        "colab": {
          "base_uri": "https://localhost:8080/",
          "height": 241
        }
      },
      "source": [
        "texts=[]\n",
        "unnecessary=' Lakshmi Sankaran\\r\\r                                          fantasizes about a bucket-list journey to witness the aurora borealis someday. Editor in Chief at National Geographic Traveller India, she will also gladly follow a captivating tune to the end of this world.\\r\\r                                 Hey there! Like what you see (or not)? Tell us what you think at web.editor@natgeotraveller.in.'\n",
        "for soup in soups:\n",
        "  text=[]\n",
        "  for paragraph in soup.find_all('p'):\n",
        "      text.append(paragraph.text)#only appending to list will work\n",
        "  text=' '.join(text)\n",
        "  '''\n",
        "      DATA CLEANING\n",
        "  '''\n",
        "  text=text[:-1*len(unnecessary)]#Replace not working\n",
        "  print(text,'\\n\\n')#Works like a String after removing \n",
        "  texts.append(text)#otherwise [text]"
      ],
      "execution_count": null,
      "outputs": [
        {
          "output_type": "stream",
          "text": [
            "I like a bit of pow-wow in any place. Let me rephrase before you think I am eternally hankering for a fight. What I mean is I would choose crooked streets over straight highways, sweaty mayhem over pristine elegance. This is why no matter where I go in this world, coming home to India, and especially Bombay, is never dull. I blame growing up in the city for my pugilistic predilections. One of the many descriptors that Mark Twain used in relation to Bombay was “pow-wow.” The place seemed to confound him: “Bewitching”, “Bewildering”, “Enchanting”, “Arabian Nights come again?”—the man was repulsed and riveted at the same time. It was a place befitting the number of exclamations he used. At 13, I was yet to be permitted the pleasures of travelling unchaperoned outside Bombay but within its confines, I had free rein to indulge my inner flâneur. I became the weekend loafer, slacking through parts of the city I really had no business being in. My itinerary hardly ever changed: Take the BEST bus to Chowpatty; after filling up on chaat, sample some more at the khau gully in Churchgate; sometimes, pretend to shop for music I could not afford at Kala Ghoda’s Rhythm House, where the desperately-trying-to-be-hip hung out in the 1990s. The final stretch was always my favourite: trudging along to my personal Shangri-La, Victoria Terminus. At VT, I parsed the sea of faces. I drummed up mind games to fill time like “Who’s new and who isn’t?” Spotting either was fairly simple. The former bunch bears dazed glances and open mouths. A person gyrating through the mob with minimum physical contact had been practising for the Local Train Olympics for a few years at least. When it was my turn to head back to the suburbs, I warmed up, adopted a stance that would make Usain Bolt proud and dashed off like the Flash into an incoming train. Like millions of others, Bombay taught me independent travel, in the crudest sense of the term. And it prepared me for the swirling madness that lies in the rest of India. In August, we are showcasing and extolling the allure of domestic journeys. Hampi, celebrated for its ruins, reveals something unexpected after every visit. In Hyderabad, we feature Sufi shrines, some of which abound in nooks you wouldn’t notice. Banaras’s cosy classical music cafés leave a lasting impression on a newcomer’s heart, and in West Bengal, a heritage renaissance seems to be afoot in Serampore. It is incumbent that travellers make forays far from where they live but, every so often, it doesn’t hurt to stumble upon surprises in our own backyard. \n",
            "\n",
            "\n",
            "For my money, memorable disagreements often centre on food. A friend who was about to settle abroad was feeling particularly wistful about a storied south Bombay restaurant, the kind of eatery that locals like to call “overrated” and guidebook-toting tourists faithfully make a beeline for. His favourite on the menu? The baklava—a dry fruit-laden traditional sweet that smacked of decadence in every bite. The first time he requested for the dessert at the restaurant, its eccentric owner was not impressed. Sizing up his credentials, he asked, “Have you had baklava before?” “Yes.” “Where?” “In Turkey.” Suspicions confirmed, the gentleman chided him. “Arre baba, that is the Turkish baklava. This is the Iranian one…” What followed was a 10-minute tutorial on the precise ways in which they differed, part-comical and part-endearing. Forget the grand battles for identity being waged around the world, food drives everyday culture wars. They are infinitely more interesting and the only injury caused is to one’s pride—we could all use some schooling on that front. Besides, unlike spikier tiffs, these usually end in smiles and a knowing wink. Last year I was perusing dinner options at Le Goutillon, an unpretentious French bistro in the heart of Chantilly. After four days in the country, most of my companions were satisfied with their fill of meat and wine, and chose conservatively. However, I and another compatriot were feeling emboldened (perhaps, it was the glass of red) and scanned the chalkboard menu for more adventurous fare. “Bring us the steak!” we declared. When our substantial cuts of beef arrived, it was soon revealed that we had held our appetite in unwarranted esteem. At the end of that meal, Goutillon’s server—a stern, no-nonsense woman—took an eyebrow-cocked look at our barely empty dishes and shook her head in disapproval. A local hotel manager later reminded us of our misplaced bravado. “Oh yeah, I heard about the Indians who didn’t finish their steak!” he giggled. France 2; India 0. In this time’s food special though, India’s showing is strong. Bombay Canteen’s Chef Thomas Zacharias, a flagbearer for all things desi, picks his top 10 must-haves from across the country. A devout traveller, he dishes on where you can seek out the finest haleem and unforgettable curries. We explore subcultures in Delhi, Kolkata and Mumbai through three different food walks. Writer Reema Islam pens a heartfelt ode to dolmades, the Grecian staple that is intertwined with her own history of growing up in Libya and Bangladesh. Antoine Lewis gathers a list of kitchen maestros, from Alex Atala to a reclusive monk in South Korea, each of whom are worth a pilgrimage. Ardent gourmands might also want to consider Dubrovnik, which in writer David Farley’s words, is Europe’s emerging food capital. As you can tell by the examples above, we were guided by pure gluttony this time. \n",
            "\n",
            "\n",
            "Our year-end edition toasts ultra-indulgence while travelling, featuring itineraries that many will know to be out of their financial reach. In producing these narratives, I was struck by a contrast. Travel today is dominated by minimalists or downsizers, those who preach the gospel of “hard-knock wanderlust.” And they almost always reap universal admiration. They are characters to aspire to, examples of made-for-Instagram sayings such as, “All you need is a backpack” or “#MotorcycleDiaries.” Unable to join these gallivanting philosophers, others marvel at their brave rebellion—oh, to give up the predictability of overpriced tourist traps someday, they sigh. In this context, luxury travel evokes a Molotov cocktail of feelings. A billionaire on a sailboat hosting Jazz Age-style revelries in the French Riviera is inevitably setting himself up for mockery. The heiress, who flits off to shopping holidays in Milan and Dubai, might as well buy an extra pair of sunglasses for the shade directed her way. Extravagance passes muster if it panders to affordability. In the last few years, it has become intertwined with entitlement, a radioactive pejorative today. Upper-class travel doesn’t deserve this slight. As more astute aesthetes have reminded us in the past, refined tastes don’t have to be gauche. Living like royalty might have its privileges but it also spurs a temperament for beauty, grace and sensuality, which is why travellers will always fork out top penny for a night in Rajasthan’s many palace stays. Wealth facilitates the kind of understated exclusivity seen in the English countryside’s several castles or manors, once a venue for elegant ballroom dances. Luxury could also simply mean time well spent—or doing nothing—floating atop a sundeck in an unending stretch of the ocean. Professional travel writers are lucky to be granted access to these private paradises and, in December’s magazine, a handful of them have returned with colourful dispatches. One writer enjoys a happy recreational bubble in the Maldives, another is privy to up close views of big game in Botswana. There is also a roundup of New York’s elite food and drinking haunts, and coverage of the maiden cruise between Mumbai and Goa. All these retreats promise a hedonistic binge: grand feasts of fine wine and champagne, and views hidden from the typical trails. Some of them will test your purse-strings but think of Holly Golightly. She couldn’t lay claim to real Tiffany’s jewels but that never stopped her from getting her heart’s fill, standing outside the window. \n",
            "\n",
            "\n",
            "Anniversary editions have the feel of a graduation: a year of studious slogging (of which, truth be told, my team and I do very little) and madcap fun (which we only wish we could indulge in more) rounded off with a sense of achievement and lingering anxiety. There’s pride that National Geographic Traveller India has lived to see another day, and in today’s precarious media landscape, that should account for something. Then the gnawing question: did we get it right? When it comes to travel, is there a right or a wrong way to do it? Early this month, The New York Times unearthed Albert Einstein’s entries of his journeys around Asia and discovered a surprising side to the Nobel Prize winner. About his time in mainland China he wrote, “In the air there is a stench of never-ending manifold variety.” The people, he found, were “industrious, filthy, obtuse…” Travel often functions as a Rorschach test of biases. Some are acutely aware of this and spend their time making amends. Anthony Bourdain’s recent passing prompted glowing tributes from around the world to his open-minded exploration of parts and cultures unknown. There are others who stand their ground: If a traveller’s true sentiments veer towards exotification, maybe it should stay so. Read Indian-American author Akhil Sharma’s recounting of a fortnight in Japan, featured in this issue, for a perfect example. The counter to which, also in this edition, are the observations of three insiders on their hometowns: Member of Parliament Shashi Tharoor sings paeans to Thiruvananthapuram, musician Raghu Dixit toasts Mysore and writer Janice Pariat reminisces about Shillong. The “how” of travel is a matter of debate too. Dyed-in-the-wool snobs harp on about authenticity and immersing yourself in local culture. The more you are inconvenienced, the more real your journey. To which, casual travellers will respond with, “I will take my comfortable stay in a nice hotel, thank you very much.” NGTI’s sixth anniversary is a distillation of these myriad attitudes to travel. In their own way, our writers show you the “right way to do it.” Our centrepiece is the “Smart Hacks” section that features an expert’s take on how best to navigate a place. Lensman Abhishek Hajela, a regular visitor to Ladakh, gives readers a glimpse into getting drool-worthy shots in Ladakh. Vaishali Dinakaran, an avowed gearhead, has the lowdown on grappling with Europe by road. Kaushal Karkhanis decodes solo backpacking in South America for the faraway dreamers. Chinmai Gupta offers a guide through that most “mystical” of institutions—a London nightclub. And if these stories are only a reminder of how ill-prepared your wallet is to go anywhere, we have solutions for that, too. As to whether we got it right, we have another year to fuss over that. \n",
            "\n",
            "\n"
          ],
          "name": "stdout"
        }
      ]
    },
    {
      "cell_type": "markdown",
      "metadata": {
        "id": "ludQm8UnpcTa"
      },
      "source": [
        "# Corpus"
      ]
    },
    {
      "cell_type": "code",
      "metadata": {
        "id": "Pd_he4-Gm7jV",
        "outputId": "f2c9e02a-0a83-4466-8d21-61c8a352c86f",
        "colab": {
          "base_uri": "https://localhost:8080/",
          "height": 105
        }
      },
      "source": [
        "texts"
      ],
      "execution_count": null,
      "outputs": [
        {
          "output_type": "execute_result",
          "data": {
            "text/plain": [
              "['I like a bit of pow-wow in any place. Let me rephrase before you think I am eternally hankering for a fight. What I mean is I would choose crooked streets over straight highways, sweaty mayhem over pristine elegance. This is why no matter where I go in this world, coming home to India, and especially Bombay, is never dull. I blame growing up in the city for my pugilistic predilections. One of the many descriptors that Mark Twain used in relation to Bombay was “pow-wow.” The place seemed to confound him: “Bewitching”, “Bewildering”, “Enchanting”, “Arabian Nights come again?”—the man was repulsed and riveted at the same time. It was a place befitting the number of exclamations he used. At 13, I was yet to be permitted the pleasures of travelling unchaperoned outside Bombay but within its confines, I had free rein to indulge my inner flâneur. I became the weekend loafer, slacking through parts of the city I really had no business being in. My itinerary hardly ever changed: Take the BEST bus to Chowpatty; after filling up on chaat, sample some more at the khau gully in Churchgate; sometimes, pretend to shop for music I could not afford at Kala Ghoda’s Rhythm House, where the desperately-trying-to-be-hip hung out in the 1990s. The final stretch was always my favourite: trudging along to my personal Shangri-La, Victoria Terminus. At VT, I parsed the sea of faces. I drummed up mind games to fill time like “Who’s new and who isn’t?” Spotting either was fairly simple. The former bunch bears dazed glances and open mouths. A person gyrating through the mob with minimum physical contact had been practising for the Local Train Olympics for a few years at least. When it was my turn to head back to the suburbs, I warmed up, adopted a stance that would make Usain Bolt proud and dashed off like the Flash into an incoming train. Like millions of others, Bombay taught me independent travel, in the crudest sense of the term. And it prepared me for the swirling madness that lies in the rest of India. In August, we are showcasing and extolling the allure of domestic journeys. Hampi, celebrated for its ruins, reveals something unexpected after every visit. In Hyderabad, we feature Sufi shrines, some of which abound in nooks you wouldn’t notice. Banaras’s cosy classical music cafés leave a lasting impression on a newcomer’s heart, and in West Bengal, a heritage renaissance seems to be afoot in Serampore. It is incumbent that travellers make forays far from where they live but, every so often, it doesn’t hurt to stumble upon surprises in our own backyard.',\n",
              " 'For my money, memorable disagreements often centre on food. A friend who was about to settle abroad was feeling particularly wistful about a storied south Bombay restaurant, the kind of eatery that locals like to call “overrated” and guidebook-toting tourists faithfully make a beeline for. His favourite on the menu? The baklava—a dry fruit-laden traditional sweet that smacked of decadence in every bite. The first time he requested for the dessert at the restaurant, its eccentric owner was not impressed. Sizing up his credentials, he asked, “Have you had baklava before?” “Yes.” “Where?” “In Turkey.” Suspicions confirmed, the gentleman chided him. “Arre baba, that is the Turkish baklava. This is the Iranian one…” What followed was a 10-minute tutorial on the precise ways in which they differed, part-comical and part-endearing. Forget the grand battles for identity being waged around the world, food drives everyday culture wars. They are infinitely more interesting and the only injury caused is to one’s pride—we could all use some schooling on that front. Besides, unlike spikier tiffs, these usually end in smiles and a knowing wink. Last year I was perusing dinner options at Le Goutillon, an unpretentious French bistro in the heart of Chantilly. After four days in the country, most of my companions were satisfied with their fill of meat and wine, and chose conservatively. However, I and another compatriot were feeling emboldened (perhaps, it was the glass of red) and scanned the chalkboard menu for more adventurous fare. “Bring us the steak!” we declared. When our substantial cuts of beef arrived, it was soon revealed that we had held our appetite in unwarranted esteem. At the end of that meal, Goutillon’s server—a stern, no-nonsense woman—took an eyebrow-cocked look at our barely empty dishes and shook her head in disapproval. A local hotel manager later reminded us of our misplaced bravado. “Oh yeah, I heard about the Indians who didn’t finish their steak!” he giggled. France 2; India 0. In this time’s food special though, India’s showing is strong. Bombay Canteen’s Chef Thomas Zacharias, a flagbearer for all things desi, picks his top 10 must-haves from across the country. A devout traveller, he dishes on where you can seek out the finest haleem and unforgettable curries. We explore subcultures in Delhi, Kolkata and Mumbai through three different food walks. Writer Reema Islam pens a heartfelt ode to dolmades, the Grecian staple that is intertwined with her own history of growing up in Libya and Bangladesh. Antoine Lewis gathers a list of kitchen maestros, from Alex Atala to a reclusive monk in South Korea, each of whom are worth a pilgrimage. Ardent gourmands might also want to consider Dubrovnik, which in writer David Farley’s words, is Europe’s emerging food capital. As you can tell by the examples above, we were guided by pure gluttony this time.',\n",
              " 'Our year-end edition toasts ultra-indulgence while travelling, featuring itineraries that many will know to be out of their financial reach. In producing these narratives, I was struck by a contrast. Travel today is dominated by minimalists or downsizers, those who preach the gospel of “hard-knock wanderlust.” And they almost always reap universal admiration. They are characters to aspire to, examples of made-for-Instagram sayings such as, “All you need is a backpack” or “#MotorcycleDiaries.” Unable to join these gallivanting philosophers, others marvel at their brave rebellion—oh, to give up the predictability of overpriced tourist traps someday, they sigh. In this context, luxury travel evokes a Molotov cocktail of feelings. A billionaire on a sailboat hosting Jazz Age-style revelries in the French Riviera is inevitably setting himself up for mockery. The heiress, who flits off to shopping holidays in Milan and Dubai, might as well buy an extra pair of sunglasses for the shade directed her way. Extravagance passes muster if it panders to affordability. In the last few years, it has become intertwined with entitlement, a radioactive pejorative today. Upper-class travel doesn’t deserve this slight. As more astute aesthetes have reminded us in the past, refined tastes don’t have to be gauche. Living like royalty might have its privileges but it also spurs a temperament for beauty, grace and sensuality, which is why travellers will always fork out top penny for a night in Rajasthan’s many palace stays. Wealth facilitates the kind of understated exclusivity seen in the English countryside’s several castles or manors, once a venue for elegant ballroom dances. Luxury could also simply mean time well spent—or doing nothing—floating atop a sundeck in an unending stretch of the ocean. Professional travel writers are lucky to be granted access to these private paradises and, in December’s magazine, a handful of them have returned with colourful dispatches. One writer enjoys a happy recreational bubble in the Maldives, another is privy to up close views of big game in Botswana. There is also a roundup of New York’s elite food and drinking haunts, and coverage of the maiden cruise between Mumbai and Goa. All these retreats promise a hedonistic binge: grand feasts of fine wine and champagne, and views hidden from the typical trails. Some of them will\\xa0test your purse-strings but think of Holly Golightly. She couldn’t lay claim to real Tiffany’s jewels but that never stopped her from getting her heart’s fill, standing outside the window.',\n",
              " 'Anniversary editions have the feel of a graduation: a year of studious slogging (of which, truth be told, my team and I do very little) and madcap fun (which we only wish we could indulge in more) rounded off with a sense of achievement and lingering anxiety. There’s pride that National Geographic Traveller India has lived to see another day, and in today’s precarious media landscape, that should account for something. Then the gnawing question: did we get it right? When it comes to travel, is there a right or a wrong way to do it? Early this month, The New York Times unearthed Albert Einstein’s entries of his journeys around Asia and discovered a surprising side to the Nobel Prize winner. About his time in mainland China he wrote, “In the air there is a stench of never-ending manifold variety.” The people, he found, were “industrious, filthy, obtuse…” Travel often functions as a Rorschach test of biases. Some are acutely aware of this and spend their time making amends. Anthony Bourdain’s recent passing prompted glowing tributes from around the world to his open-minded exploration of parts and cultures unknown. There are others who stand their ground: If a traveller’s true sentiments veer towards exotification, maybe it should stay so. Read Indian-American author Akhil Sharma’s recounting of a fortnight in Japan, featured in this issue, for a perfect example. The counter to which, also in this edition, are the observations of three insiders on their hometowns: Member of Parliament Shashi Tharoor sings paeans to Thiruvananthapuram, musician Raghu Dixit toasts Mysore and writer Janice Pariat reminisces about Shillong. The “how” of travel is a matter of debate too. Dyed-in-the-wool snobs harp on about authenticity and immersing yourself in local culture. The more you are inconvenienced, the more real your journey. To which, casual travellers will respond with, “I will take my comfortable stay in a nice hotel, thank you very much.” NGTI’s sixth anniversary is a distillation of these myriad attitudes to travel. In their own way, our writers show you the “right way to do it.” Our centrepiece is the “Smart Hacks” section that features an expert’s take on how best to navigate a place. Lensman Abhishek Hajela, a regular visitor to Ladakh, gives readers a glimpse into getting drool-worthy shots in Ladakh. Vaishali Dinakaran, an avowed gearhead, has the lowdown on grappling with Europe by road. Kaushal Karkhanis decodes solo backpacking in South America for the faraway dreamers. Chinmai Gupta offers a guide through that most “mystical” of institutions—a London nightclub. And if these stories are only a reminder of how ill-prepared your wallet is to go anywhere, we have solutions for that, too. As to whether we got it right, we have another year to fuss over that.']"
            ]
          },
          "metadata": {
            "tags": []
          },
          "execution_count": 6
        }
      ]
    },
    {
      "cell_type": "markdown",
      "metadata": {
        "id": "QL_tifGCtOH_"
      },
      "source": [
        "# Stemming using Lancaster Stemmer"
      ]
    },
    {
      "cell_type": "code",
      "metadata": {
        "id": "fZ1A-4Czt8LY",
        "outputId": "d6be5af8-4d61-4c52-b7db-3bd8992120ee",
        "colab": {
          "base_uri": "https://localhost:8080/",
          "height": 1000
        }
      },
      "source": [
        "import nltk\n",
        "nltk.download('all')"
      ],
      "execution_count": null,
      "outputs": [
        {
          "output_type": "stream",
          "text": [
            "[nltk_data] Downloading collection 'all'\n",
            "[nltk_data]    | \n",
            "[nltk_data]    | Downloading package abc to /root/nltk_data...\n",
            "[nltk_data]    |   Unzipping corpora/abc.zip.\n",
            "[nltk_data]    | Downloading package alpino to /root/nltk_data...\n",
            "[nltk_data]    |   Unzipping corpora/alpino.zip.\n",
            "[nltk_data]    | Downloading package biocreative_ppi to\n",
            "[nltk_data]    |     /root/nltk_data...\n",
            "[nltk_data]    |   Unzipping corpora/biocreative_ppi.zip.\n",
            "[nltk_data]    | Downloading package brown to /root/nltk_data...\n",
            "[nltk_data]    |   Unzipping corpora/brown.zip.\n",
            "[nltk_data]    | Downloading package brown_tei to /root/nltk_data...\n",
            "[nltk_data]    |   Unzipping corpora/brown_tei.zip.\n",
            "[nltk_data]    | Downloading package cess_cat to /root/nltk_data...\n",
            "[nltk_data]    |   Unzipping corpora/cess_cat.zip.\n",
            "[nltk_data]    | Downloading package cess_esp to /root/nltk_data...\n",
            "[nltk_data]    |   Unzipping corpora/cess_esp.zip.\n",
            "[nltk_data]    | Downloading package chat80 to /root/nltk_data...\n",
            "[nltk_data]    |   Unzipping corpora/chat80.zip.\n",
            "[nltk_data]    | Downloading package city_database to\n",
            "[nltk_data]    |     /root/nltk_data...\n",
            "[nltk_data]    |   Unzipping corpora/city_database.zip.\n",
            "[nltk_data]    | Downloading package cmudict to /root/nltk_data...\n",
            "[nltk_data]    |   Unzipping corpora/cmudict.zip.\n",
            "[nltk_data]    | Downloading package comparative_sentences to\n",
            "[nltk_data]    |     /root/nltk_data...\n",
            "[nltk_data]    |   Unzipping corpora/comparative_sentences.zip.\n",
            "[nltk_data]    | Downloading package comtrans to /root/nltk_data...\n",
            "[nltk_data]    | Downloading package conll2000 to /root/nltk_data...\n",
            "[nltk_data]    |   Unzipping corpora/conll2000.zip.\n",
            "[nltk_data]    | Downloading package conll2002 to /root/nltk_data...\n",
            "[nltk_data]    |   Unzipping corpora/conll2002.zip.\n",
            "[nltk_data]    | Downloading package conll2007 to /root/nltk_data...\n",
            "[nltk_data]    | Downloading package crubadan to /root/nltk_data...\n",
            "[nltk_data]    |   Unzipping corpora/crubadan.zip.\n",
            "[nltk_data]    | Downloading package dependency_treebank to\n",
            "[nltk_data]    |     /root/nltk_data...\n",
            "[nltk_data]    |   Unzipping corpora/dependency_treebank.zip.\n",
            "[nltk_data]    | Downloading package dolch to /root/nltk_data...\n",
            "[nltk_data]    |   Unzipping corpora/dolch.zip.\n",
            "[nltk_data]    | Downloading package europarl_raw to\n",
            "[nltk_data]    |     /root/nltk_data...\n",
            "[nltk_data]    |   Unzipping corpora/europarl_raw.zip.\n",
            "[nltk_data]    | Downloading package floresta to /root/nltk_data...\n",
            "[nltk_data]    |   Unzipping corpora/floresta.zip.\n",
            "[nltk_data]    | Downloading package framenet_v15 to\n",
            "[nltk_data]    |     /root/nltk_data...\n",
            "[nltk_data]    |   Unzipping corpora/framenet_v15.zip.\n",
            "[nltk_data]    | Downloading package framenet_v17 to\n",
            "[nltk_data]    |     /root/nltk_data...\n",
            "[nltk_data]    |   Unzipping corpora/framenet_v17.zip.\n",
            "[nltk_data]    | Downloading package gazetteers to /root/nltk_data...\n",
            "[nltk_data]    |   Unzipping corpora/gazetteers.zip.\n",
            "[nltk_data]    | Downloading package genesis to /root/nltk_data...\n",
            "[nltk_data]    |   Unzipping corpora/genesis.zip.\n",
            "[nltk_data]    | Downloading package gutenberg to /root/nltk_data...\n",
            "[nltk_data]    |   Unzipping corpora/gutenberg.zip.\n",
            "[nltk_data]    | Downloading package ieer to /root/nltk_data...\n",
            "[nltk_data]    |   Unzipping corpora/ieer.zip.\n",
            "[nltk_data]    | Downloading package inaugural to /root/nltk_data...\n",
            "[nltk_data]    |   Unzipping corpora/inaugural.zip.\n",
            "[nltk_data]    | Downloading package indian to /root/nltk_data...\n",
            "[nltk_data]    |   Unzipping corpora/indian.zip.\n",
            "[nltk_data]    | Downloading package jeita to /root/nltk_data...\n",
            "[nltk_data]    | Downloading package kimmo to /root/nltk_data...\n",
            "[nltk_data]    |   Unzipping corpora/kimmo.zip.\n",
            "[nltk_data]    | Downloading package knbc to /root/nltk_data...\n",
            "[nltk_data]    | Downloading package lin_thesaurus to\n",
            "[nltk_data]    |     /root/nltk_data...\n",
            "[nltk_data]    |   Unzipping corpora/lin_thesaurus.zip.\n",
            "[nltk_data]    | Downloading package mac_morpho to /root/nltk_data...\n",
            "[nltk_data]    |   Unzipping corpora/mac_morpho.zip.\n",
            "[nltk_data]    | Downloading package machado to /root/nltk_data...\n",
            "[nltk_data]    | Downloading package masc_tagged to /root/nltk_data...\n",
            "[nltk_data]    | Downloading package moses_sample to\n",
            "[nltk_data]    |     /root/nltk_data...\n",
            "[nltk_data]    |   Unzipping models/moses_sample.zip.\n",
            "[nltk_data]    | Downloading package movie_reviews to\n",
            "[nltk_data]    |     /root/nltk_data...\n",
            "[nltk_data]    |   Unzipping corpora/movie_reviews.zip.\n",
            "[nltk_data]    | Downloading package names to /root/nltk_data...\n",
            "[nltk_data]    |   Unzipping corpora/names.zip.\n",
            "[nltk_data]    | Downloading package nombank.1.0 to /root/nltk_data...\n",
            "[nltk_data]    | Downloading package nps_chat to /root/nltk_data...\n",
            "[nltk_data]    |   Unzipping corpora/nps_chat.zip.\n",
            "[nltk_data]    | Downloading package omw to /root/nltk_data...\n",
            "[nltk_data]    |   Unzipping corpora/omw.zip.\n",
            "[nltk_data]    | Downloading package opinion_lexicon to\n",
            "[nltk_data]    |     /root/nltk_data...\n",
            "[nltk_data]    |   Unzipping corpora/opinion_lexicon.zip.\n",
            "[nltk_data]    | Downloading package paradigms to /root/nltk_data...\n",
            "[nltk_data]    |   Unzipping corpora/paradigms.zip.\n",
            "[nltk_data]    | Downloading package pil to /root/nltk_data...\n",
            "[nltk_data]    |   Unzipping corpora/pil.zip.\n",
            "[nltk_data]    | Downloading package pl196x to /root/nltk_data...\n",
            "[nltk_data]    |   Unzipping corpora/pl196x.zip.\n",
            "[nltk_data]    | Downloading package ppattach to /root/nltk_data...\n",
            "[nltk_data]    |   Unzipping corpora/ppattach.zip.\n",
            "[nltk_data]    | Downloading package problem_reports to\n",
            "[nltk_data]    |     /root/nltk_data...\n",
            "[nltk_data]    |   Unzipping corpora/problem_reports.zip.\n",
            "[nltk_data]    | Downloading package propbank to /root/nltk_data...\n",
            "[nltk_data]    | Downloading package ptb to /root/nltk_data...\n",
            "[nltk_data]    |   Unzipping corpora/ptb.zip.\n",
            "[nltk_data]    | Downloading package product_reviews_1 to\n",
            "[nltk_data]    |     /root/nltk_data...\n",
            "[nltk_data]    |   Unzipping corpora/product_reviews_1.zip.\n",
            "[nltk_data]    | Downloading package product_reviews_2 to\n",
            "[nltk_data]    |     /root/nltk_data...\n",
            "[nltk_data]    |   Unzipping corpora/product_reviews_2.zip.\n",
            "[nltk_data]    | Downloading package pros_cons to /root/nltk_data...\n",
            "[nltk_data]    |   Unzipping corpora/pros_cons.zip.\n",
            "[nltk_data]    | Downloading package qc to /root/nltk_data...\n",
            "[nltk_data]    |   Unzipping corpora/qc.zip.\n",
            "[nltk_data]    | Downloading package reuters to /root/nltk_data...\n",
            "[nltk_data]    | Downloading package rte to /root/nltk_data...\n",
            "[nltk_data]    |   Unzipping corpora/rte.zip.\n",
            "[nltk_data]    | Downloading package semcor to /root/nltk_data...\n",
            "[nltk_data]    | Downloading package senseval to /root/nltk_data...\n",
            "[nltk_data]    |   Unzipping corpora/senseval.zip.\n",
            "[nltk_data]    | Downloading package sentiwordnet to\n",
            "[nltk_data]    |     /root/nltk_data...\n",
            "[nltk_data]    |   Unzipping corpora/sentiwordnet.zip.\n",
            "[nltk_data]    | Downloading package sentence_polarity to\n",
            "[nltk_data]    |     /root/nltk_data...\n",
            "[nltk_data]    |   Unzipping corpora/sentence_polarity.zip.\n",
            "[nltk_data]    | Downloading package shakespeare to /root/nltk_data...\n",
            "[nltk_data]    |   Unzipping corpora/shakespeare.zip.\n",
            "[nltk_data]    | Downloading package sinica_treebank to\n",
            "[nltk_data]    |     /root/nltk_data...\n",
            "[nltk_data]    |   Unzipping corpora/sinica_treebank.zip.\n",
            "[nltk_data]    | Downloading package smultron to /root/nltk_data...\n",
            "[nltk_data]    |   Unzipping corpora/smultron.zip.\n",
            "[nltk_data]    | Downloading package state_union to /root/nltk_data...\n",
            "[nltk_data]    |   Unzipping corpora/state_union.zip.\n",
            "[nltk_data]    | Downloading package stopwords to /root/nltk_data...\n",
            "[nltk_data]    |   Unzipping corpora/stopwords.zip.\n",
            "[nltk_data]    | Downloading package subjectivity to\n",
            "[nltk_data]    |     /root/nltk_data...\n",
            "[nltk_data]    |   Unzipping corpora/subjectivity.zip.\n",
            "[nltk_data]    | Downloading package swadesh to /root/nltk_data...\n",
            "[nltk_data]    |   Unzipping corpora/swadesh.zip.\n",
            "[nltk_data]    | Downloading package switchboard to /root/nltk_data...\n",
            "[nltk_data]    |   Unzipping corpora/switchboard.zip.\n",
            "[nltk_data]    | Downloading package timit to /root/nltk_data...\n",
            "[nltk_data]    |   Unzipping corpora/timit.zip.\n",
            "[nltk_data]    | Downloading package toolbox to /root/nltk_data...\n",
            "[nltk_data]    |   Unzipping corpora/toolbox.zip.\n",
            "[nltk_data]    | Downloading package treebank to /root/nltk_data...\n",
            "[nltk_data]    |   Unzipping corpora/treebank.zip.\n",
            "[nltk_data]    | Downloading package twitter_samples to\n",
            "[nltk_data]    |     /root/nltk_data...\n",
            "[nltk_data]    |   Unzipping corpora/twitter_samples.zip.\n",
            "[nltk_data]    | Downloading package udhr to /root/nltk_data...\n",
            "[nltk_data]    |   Unzipping corpora/udhr.zip.\n",
            "[nltk_data]    | Downloading package udhr2 to /root/nltk_data...\n",
            "[nltk_data]    |   Unzipping corpora/udhr2.zip.\n",
            "[nltk_data]    | Downloading package unicode_samples to\n",
            "[nltk_data]    |     /root/nltk_data...\n",
            "[nltk_data]    |   Unzipping corpora/unicode_samples.zip.\n",
            "[nltk_data]    | Downloading package universal_treebanks_v20 to\n",
            "[nltk_data]    |     /root/nltk_data...\n",
            "[nltk_data]    | Downloading package verbnet to /root/nltk_data...\n",
            "[nltk_data]    |   Unzipping corpora/verbnet.zip.\n",
            "[nltk_data]    | Downloading package verbnet3 to /root/nltk_data...\n",
            "[nltk_data]    |   Unzipping corpora/verbnet3.zip.\n",
            "[nltk_data]    | Downloading package webtext to /root/nltk_data...\n",
            "[nltk_data]    |   Unzipping corpora/webtext.zip.\n",
            "[nltk_data]    | Downloading package wordnet to /root/nltk_data...\n",
            "[nltk_data]    |   Unzipping corpora/wordnet.zip.\n",
            "[nltk_data]    | Downloading package wordnet_ic to /root/nltk_data...\n",
            "[nltk_data]    |   Unzipping corpora/wordnet_ic.zip.\n",
            "[nltk_data]    | Downloading package words to /root/nltk_data...\n",
            "[nltk_data]    |   Unzipping corpora/words.zip.\n",
            "[nltk_data]    | Downloading package ycoe to /root/nltk_data...\n",
            "[nltk_data]    |   Unzipping corpora/ycoe.zip.\n",
            "[nltk_data]    | Downloading package rslp to /root/nltk_data...\n",
            "[nltk_data]    |   Unzipping stemmers/rslp.zip.\n",
            "[nltk_data]    | Downloading package maxent_treebank_pos_tagger to\n",
            "[nltk_data]    |     /root/nltk_data...\n",
            "[nltk_data]    |   Unzipping taggers/maxent_treebank_pos_tagger.zip.\n",
            "[nltk_data]    | Downloading package universal_tagset to\n",
            "[nltk_data]    |     /root/nltk_data...\n",
            "[nltk_data]    |   Unzipping taggers/universal_tagset.zip.\n",
            "[nltk_data]    | Downloading package maxent_ne_chunker to\n",
            "[nltk_data]    |     /root/nltk_data...\n",
            "[nltk_data]    |   Unzipping chunkers/maxent_ne_chunker.zip.\n",
            "[nltk_data]    | Downloading package punkt to /root/nltk_data...\n",
            "[nltk_data]    |   Unzipping tokenizers/punkt.zip.\n",
            "[nltk_data]    | Downloading package book_grammars to\n",
            "[nltk_data]    |     /root/nltk_data...\n",
            "[nltk_data]    |   Unzipping grammars/book_grammars.zip.\n",
            "[nltk_data]    | Downloading package sample_grammars to\n",
            "[nltk_data]    |     /root/nltk_data...\n",
            "[nltk_data]    |   Unzipping grammars/sample_grammars.zip.\n",
            "[nltk_data]    | Downloading package spanish_grammars to\n",
            "[nltk_data]    |     /root/nltk_data...\n",
            "[nltk_data]    |   Unzipping grammars/spanish_grammars.zip.\n",
            "[nltk_data]    | Downloading package basque_grammars to\n",
            "[nltk_data]    |     /root/nltk_data...\n",
            "[nltk_data]    |   Unzipping grammars/basque_grammars.zip.\n",
            "[nltk_data]    | Downloading package large_grammars to\n",
            "[nltk_data]    |     /root/nltk_data...\n",
            "[nltk_data]    |   Unzipping grammars/large_grammars.zip.\n",
            "[nltk_data]    | Downloading package tagsets to /root/nltk_data...\n",
            "[nltk_data]    |   Unzipping help/tagsets.zip.\n",
            "[nltk_data]    | Downloading package snowball_data to\n",
            "[nltk_data]    |     /root/nltk_data...\n",
            "[nltk_data]    | Downloading package bllip_wsj_no_aux to\n",
            "[nltk_data]    |     /root/nltk_data...\n",
            "[nltk_data]    |   Unzipping models/bllip_wsj_no_aux.zip.\n",
            "[nltk_data]    | Downloading package word2vec_sample to\n",
            "[nltk_data]    |     /root/nltk_data...\n",
            "[nltk_data]    |   Unzipping models/word2vec_sample.zip.\n",
            "[nltk_data]    | Downloading package panlex_swadesh to\n",
            "[nltk_data]    |     /root/nltk_data...\n",
            "[nltk_data]    | Downloading package mte_teip5 to /root/nltk_data...\n",
            "[nltk_data]    |   Unzipping corpora/mte_teip5.zip.\n",
            "[nltk_data]    | Downloading package averaged_perceptron_tagger to\n",
            "[nltk_data]    |     /root/nltk_data...\n",
            "[nltk_data]    |   Unzipping taggers/averaged_perceptron_tagger.zip.\n",
            "[nltk_data]    | Downloading package averaged_perceptron_tagger_ru to\n",
            "[nltk_data]    |     /root/nltk_data...\n",
            "[nltk_data]    |   Unzipping\n",
            "[nltk_data]    |       taggers/averaged_perceptron_tagger_ru.zip.\n",
            "[nltk_data]    | Downloading package perluniprops to\n",
            "[nltk_data]    |     /root/nltk_data...\n",
            "[nltk_data]    |   Unzipping misc/perluniprops.zip.\n",
            "[nltk_data]    | Downloading package nonbreaking_prefixes to\n",
            "[nltk_data]    |     /root/nltk_data...\n",
            "[nltk_data]    |   Unzipping corpora/nonbreaking_prefixes.zip.\n",
            "[nltk_data]    | Downloading package vader_lexicon to\n",
            "[nltk_data]    |     /root/nltk_data...\n",
            "[nltk_data]    | Downloading package porter_test to /root/nltk_data...\n",
            "[nltk_data]    |   Unzipping stemmers/porter_test.zip.\n",
            "[nltk_data]    | Downloading package wmt15_eval to /root/nltk_data...\n",
            "[nltk_data]    |   Unzipping models/wmt15_eval.zip.\n",
            "[nltk_data]    | Downloading package mwa_ppdb to /root/nltk_data...\n",
            "[nltk_data]    |   Unzipping misc/mwa_ppdb.zip.\n",
            "[nltk_data]    | \n",
            "[nltk_data]  Done downloading collection all\n"
          ],
          "name": "stdout"
        },
        {
          "output_type": "execute_result",
          "data": {
            "text/plain": [
              "True"
            ]
          },
          "metadata": {
            "tags": []
          },
          "execution_count": 7
        }
      ]
    },
    {
      "cell_type": "code",
      "metadata": {
        "id": "eP8rMM6Xty6C"
      },
      "source": [
        "from nltk.stem import PorterStemmer\n",
        "from nltk.tokenize import sent_tokenize, word_tokenize\n",
        "\n",
        "LS=PorterStemmer()"
      ],
      "execution_count": null,
      "outputs": []
    },
    {
      "cell_type": "code",
      "metadata": {
        "id": "0euwLXEbt2nt",
        "outputId": "bc113485-de79-4bfd-9e7e-79b049720924",
        "colab": {
          "base_uri": "https://localhost:8080/",
          "height": 105
        }
      },
      "source": [
        "Stem=[\" \".join([LS.stem(j) for j in i.split()]) for i in texts]\n",
        "Stem"
      ],
      "execution_count": null,
      "outputs": [
        {
          "output_type": "execute_result",
          "data": {
            "text/plain": [
              "['I like a bit of pow-wow in ani place. let me rephras befor you think I am etern hanker for a fight. what I mean is I would choos crook street over straight highways, sweati mayhem over pristin elegance. thi is whi no matter where I go in thi world, come home to india, and especi bombay, is never dull. I blame grow up in the citi for my pugilist predilections. one of the mani descriptor that mark twain use in relat to bombay wa “pow-wow.” the place seem to confound him: “bewitching”, “bewildering”, “enchanting”, “arabian night come again?”—th man wa repuls and rivet at the same time. It wa a place befit the number of exclam he used. At 13, I wa yet to be permit the pleasur of travel unchaperon outsid bombay but within it confines, I had free rein to indulg my inner flâneur. I becam the weekend loafer, slack through part of the citi I realli had no busi be in. My itinerari hardli ever changed: take the best bu to chowpatty; after fill up on chaat, sampl some more at the khau gulli in churchgate; sometimes, pretend to shop for music I could not afford at kala ghoda’ rhythm house, where the desperately-trying-to-be-hip hung out in the 1990s. the final stretch wa alway my favourite: trudg along to my person shangri-la, victoria terminus. At vt, I pars the sea of faces. I drum up mind game to fill time like “who’ new and who isn’t?” spot either wa fairli simple. the former bunch bear daze glanc and open mouths. A person gyrat through the mob with minimum physic contact had been practis for the local train olymp for a few year at least. when it wa my turn to head back to the suburbs, I warm up, adopt a stanc that would make usain bolt proud and dash off like the flash into an incom train. like million of others, bombay taught me independ travel, in the crudest sens of the term. and it prepar me for the swirl mad that lie in the rest of india. In august, we are showcas and extol the allur of domest journeys. hampi, celebr for it ruins, reveal someth unexpect after everi visit. In hyderabad, we featur sufi shrines, some of which abound in nook you wouldn’t notice. banaras’ cosi classic music café leav a last impress on a newcomer’ heart, and in west bengal, a heritag renaiss seem to be afoot in serampore. It is incumb that travel make foray far from where they live but, everi so often, it doesn’t hurt to stumbl upon surpris in our own backyard.',\n",
              " 'for my money, memor disagr often centr on food. A friend who wa about to settl abroad wa feel particularli wist about a stori south bombay restaurant, the kind of eateri that local like to call “overrated” and guidebook-tot tourist faith make a beelin for. hi favourit on the menu? the baklava—a dri fruit-laden tradit sweet that smack of decad in everi bite. the first time he request for the dessert at the restaurant, it eccentr owner wa not impressed. size up hi credentials, he asked, “have you had baklava before?” “yes.” “where?” “in turkey.” suspicion confirmed, the gentleman chide him. “arr baba, that is the turkish baklava. thi is the iranian one…” what follow wa a 10-minut tutori on the precis way in which they differed, part-com and part-endearing. forget the grand battl for ident be wage around the world, food drive everyday cultur wars. they are infinit more interest and the onli injuri caus is to one’ pride—w could all use some school on that front. besides, unlik spikier tiffs, these usual end in smile and a know wink. last year I wa perus dinner option at Le goutillon, an unpretenti french bistro in the heart of chantilly. after four day in the country, most of my companion were satisfi with their fill of meat and wine, and chose conservatively. however, I and anoth compatriot were feel embolden (perhaps, it wa the glass of red) and scan the chalkboard menu for more adventur fare. “bring us the steak!” we declared. when our substanti cut of beef arrived, it wa soon reveal that we had held our appetit in unwarr esteem. At the end of that meal, goutillon’ server—a stern, no-nonsens woman—took an eyebrow-cock look at our bare empti dish and shook her head in disapproval. A local hotel manag later remind us of our misplac bravado. “oh yeah, I heard about the indian who didn’t finish their steak!” he giggled. franc 2; india 0. In thi time’ food special though, india’ show is strong. bombay canteen’ chef thoma zacharias, a flagbear for all thing desi, pick hi top 10 must-hav from across the country. A devout traveller, he dish on where you can seek out the finest haleem and unforgett curries. We explor subcultur in delhi, kolkata and mumbai through three differ food walks. writer reema islam pen a heartfelt ode to dolmades, the grecian stapl that is intertwin with her own histori of grow up in libya and bangladesh. antoin lewi gather a list of kitchen maestros, from alex atala to a reclus monk in south korea, each of whom are worth a pilgrimage. ardent gourmand might also want to consid dubrovnik, which in writer david farley’ words, is europe’ emerg food capital. As you can tell by the exampl above, we were guid by pure gluttoni thi time.',\n",
              " 'our year-end edit toast ultra-indulg while travelling, featur itinerari that mani will know to be out of their financi reach. In produc these narratives, I wa struck by a contrast. travel today is domin by minimalist or downsizers, those who preach the gospel of “hard-knock wanderlust.” and they almost alway reap univers admiration. they are charact to aspir to, exampl of made-for-instagram say such as, “all you need is a backpack” or “#motorcyclediaries.” unabl to join these galliv philosophers, other marvel at their brave rebellion—oh, to give up the predict of overpr tourist trap someday, they sigh. In thi context, luxuri travel evok a molotov cocktail of feelings. A billionair on a sailboat host jazz age-styl revelri in the french riviera is inevit set himself up for mockery. the heiress, who flit off to shop holiday in milan and dubai, might as well buy an extra pair of sunglass for the shade direct her way. extravag pass muster if it pander to affordability. In the last few years, it ha becom intertwin with entitlement, a radioact pejor today. upper-class travel doesn’t deserv thi slight. As more astut aesthet have remind us in the past, refin tast don’t have to be gauche. live like royalti might have it privileg but it also spur a tempera for beauty, grace and sensuality, which is whi travel will alway fork out top penni for a night in rajasthan’ mani palac stays. wealth facilit the kind of underst exclus seen in the english countryside’ sever castl or manors, onc a venu for eleg ballroom dances. luxuri could also simpli mean time well spent—or do nothing—flo atop a sundeck in an unend stretch of the ocean. profession travel writer are lucki to be grant access to these privat paradis and, in december’ magazine, a hand of them have return with colour dispatches. one writer enjoy a happi recreat bubbl in the maldives, anoth is privi to up close view of big game in botswana. there is also a roundup of new york’ elit food and drink haunts, and coverag of the maiden cruis between mumbai and goa. all these retreat promis a hedonist binge: grand feast of fine wine and champagne, and view hidden from the typic trails. some of them will test your purse-str but think of holli golightly. she couldn’t lay claim to real tiffany’ jewel but that never stop her from get her heart’ fill, stand outsid the window.',\n",
              " 'anniversari edit have the feel of a graduation: a year of studiou slog (of which, truth be told, my team and I do veri little) and madcap fun (which we onli wish we could indulg in more) round off with a sens of achiev and linger anxiety. there’ pride that nation geograph travel india ha live to see anoth day, and in today’ precari media landscape, that should account for something. then the gnaw question: did we get it right? when it come to travel, is there a right or a wrong way to do it? earli thi month, the new york time unearth albert einstein’ entri of hi journey around asia and discov a surpris side to the nobel prize winner. about hi time in mainland china he wrote, “in the air there is a stench of never-end manifold variety.” the people, he found, were “industrious, filthy, obtuse…” travel often function as a rorschach test of biases. some are acut awar of thi and spend their time make amends. anthoni bourdain’ recent pass prompt glow tribut from around the world to hi open-mind explor of part and cultur unknown. there are other who stand their ground: If a traveller’ true sentiment veer toward exotification, mayb it should stay so. read indian-american author akhil sharma’ recount of a fortnight in japan, featur in thi issue, for a perfect example. the counter to which, also in thi edition, are the observ of three insid on their hometowns: member of parliament shashi tharoor sing paean to thiruvananthapuram, musician raghu dixit toast mysor and writer janic pariat reminisc about shillong. the “how” of travel is a matter of debat too. dyed-in-the-wool snob harp on about authent and immers yourself in local culture. the more you are inconvenienced, the more real your journey. To which, casual travel will respond with, “I will take my comfort stay in a nice hotel, thank you veri much.” ngti’ sixth anniversari is a distil of these myriad attitud to travel. In their own way, our writer show you the “right way to do it.” our centrepiec is the “smart hacks” section that featur an expert’ take on how best to navig a place. lensman abhishek hajela, a regular visitor to ladakh, give reader a glimps into get drool-worthi shot in ladakh. vaishali dinakaran, an avow gearhead, ha the lowdown on grappl with europ by road. kaushal karkhani decod solo backpack in south america for the faraway dreamers. chinmai gupta offer a guid through that most “mystical” of institutions—a london nightclub. and if these stori are onli a remind of how ill-prepar your wallet is to go anywhere, we have solut for that, too. As to whether we got it right, we have anoth year to fuss over that.']"
            ]
          },
          "metadata": {
            "tags": []
          },
          "execution_count": 9
        }
      ]
    },
    {
      "cell_type": "markdown",
      "metadata": {
        "id": "Ou20oaUDwuvk"
      },
      "source": [
        "# CountVectorizer"
      ]
    },
    {
      "cell_type": "code",
      "metadata": {
        "id": "pGY9WxLyxQpq"
      },
      "source": [
        "from sklearn.feature_extraction.text import CountVectorizer\n",
        "vect=CountVectorizer(binary=True)"
      ],
      "execution_count": null,
      "outputs": []
    },
    {
      "cell_type": "code",
      "metadata": {
        "id": "ov1vXxWdx41b",
        "outputId": "cc141233-062e-46a7-d82e-6f9868b962f2",
        "colab": {
          "base_uri": "https://localhost:8080/",
          "height": 34
        }
      },
      "source": [
        "vect.fit(texts)\n",
        "vocab=vect.vocabulary_\n",
        "len(vocab)"
      ],
      "execution_count": null,
      "outputs": [
        {
          "output_type": "execute_result",
          "data": {
            "text/plain": [
              "947"
            ]
          },
          "metadata": {
            "tags": []
          },
          "execution_count": 11
        }
      ]
    },
    {
      "cell_type": "code",
      "metadata": {
        "id": "sAWtz9GexWOz",
        "outputId": "ffd21055-bac5-4d59-812a-450512960a51",
        "colab": {
          "base_uri": "https://localhost:8080/",
          "height": 34
        }
      },
      "source": [
        "vect.fit(Stem)\n",
        "vocab=vect.vocabulary_\n",
        "len(vocab)"
      ],
      "execution_count": null,
      "outputs": [
        {
          "output_type": "execute_result",
          "data": {
            "text/plain": [
              "908"
            ]
          },
          "metadata": {
            "tags": []
          },
          "execution_count": 12
        }
      ]
    },
    {
      "cell_type": "markdown",
      "metadata": {
        "id": "Y3ID9oztxefI"
      },
      "source": [
        "# Cosine Similarity"
      ]
    },
    {
      "cell_type": "code",
      "metadata": {
        "id": "4-a79D4AxjBS"
      },
      "source": [
        "from sklearn.metrics.pairwise import cosine_similarity"
      ],
      "execution_count": null,
      "outputs": []
    },
    {
      "cell_type": "code",
      "metadata": {
        "id": "T3H-iHTPyzQZ",
        "outputId": "8a1ebe29-5f19-4e20-fb0f-790f6f323c50",
        "colab": {
          "base_uri": "https://localhost:8080/",
          "height": 119
        }
      },
      "source": [
        "for i in range(len(Stem)-1):\n",
        "  for j in range(i+1,len(Stem)):\n",
        "      similarity = cosine_similarity(vect.transform([Stem[i]]).toarray(), vect.transform([Stem[j]]).toarray())\n",
        "      print('Similarity between Articles: ',i,' and ',j,' : ',similarity)"
      ],
      "execution_count": null,
      "outputs": [
        {
          "output_type": "stream",
          "text": [
            "Similarity between Articles:  0  and  1  :  [[0.20365327]]\n",
            "Similarity between Articles:  0  and  2  :  [[0.1989371]]\n",
            "Similarity between Articles:  0  and  3  :  [[0.20531777]]\n",
            "Similarity between Articles:  1  and  2  :  [[0.20932333]]\n",
            "Similarity between Articles:  1  and  3  :  [[0.22540914]]\n",
            "Similarity between Articles:  2  and  3  :  [[0.21831121]]\n"
          ],
          "name": "stdout"
        }
      ]
    },
    {
      "cell_type": "code",
      "metadata": {
        "id": "AYXf8wmJAjra"
      },
      "source": [
        ""
      ],
      "execution_count": null,
      "outputs": []
    }
  ]
}